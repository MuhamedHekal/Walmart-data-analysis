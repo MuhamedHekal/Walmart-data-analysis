{
 "cells": [
  {
   "cell_type": "code",
   "execution_count": 1,
   "metadata": {},
   "outputs": [
    {
     "name": "stdout",
     "output_type": "stream",
     "text": [
      "Requirement already satisfied: oracledb in c:\\users\\althouraya\\appdata\\local\\packages\\pythonsoftwarefoundation.python.3.11_qbz5n2kfra8p0\\localcache\\local-packages\\python311\\site-packages (2.5.1)Note: you may need to restart the kernel to use updated packages.\n",
      "\n",
      "Requirement already satisfied: cryptography>=3.2.1 in c:\\users\\althouraya\\appdata\\local\\packages\\pythonsoftwarefoundation.python.3.11_qbz5n2kfra8p0\\localcache\\local-packages\\python311\\site-packages (from oracledb) (44.0.0)\n",
      "Requirement already satisfied: cffi>=1.12 in c:\\users\\althouraya\\appdata\\local\\packages\\pythonsoftwarefoundation.python.3.11_qbz5n2kfra8p0\\localcache\\local-packages\\python311\\site-packages (from cryptography>=3.2.1->oracledb) (1.17.1)\n",
      "Requirement already satisfied: pycparser in c:\\users\\althouraya\\appdata\\local\\packages\\pythonsoftwarefoundation.python.3.11_qbz5n2kfra8p0\\localcache\\local-packages\\python311\\site-packages (from cffi>=1.12->cryptography>=3.2.1->oracledb) (2.22)\n"
     ]
    },
    {
     "name": "stderr",
     "output_type": "stream",
     "text": [
      "\n",
      "[notice] A new release of pip is available: 24.0 -> 24.3.1\n",
      "[notice] To update, run: C:\\Users\\ALTHOURAYA\\AppData\\Local\\Microsoft\\WindowsApps\\PythonSoftwareFoundation.Python.3.11_qbz5n2kfra8p0\\python.exe -m pip install --upgrade pip\n"
     ]
    }
   ],
   "source": [
    "%pip install oracledb"
   ]
  },
  {
   "cell_type": "code",
   "execution_count": 2,
   "metadata": {},
   "outputs": [
    {
     "name": "stdout",
     "output_type": "stream",
     "text": [
      "Requirement already satisfied: pandas in c:\\users\\althouraya\\appdata\\local\\packages\\pythonsoftwarefoundation.python.3.11_qbz5n2kfra8p0\\localcache\\local-packages\\python311\\site-packages (2.2.3)\n",
      "Requirement already satisfied: numpy>=1.23.2 in c:\\users\\althouraya\\appdata\\local\\packages\\pythonsoftwarefoundation.python.3.11_qbz5n2kfra8p0\\localcache\\local-packages\\python311\\site-packages (from pandas) (2.2.1)\n",
      "Requirement already satisfied: python-dateutil>=2.8.2 in c:\\users\\althouraya\\appdata\\local\\packages\\pythonsoftwarefoundation.python.3.11_qbz5n2kfra8p0\\localcache\\local-packages\\python311\\site-packages (from pandas) (2.9.0.post0)\n",
      "Requirement already satisfied: pytz>=2020.1 in c:\\users\\althouraya\\appdata\\local\\packages\\pythonsoftwarefoundation.python.3.11_qbz5n2kfra8p0\\localcache\\local-packages\\python311\\site-packages (from pandas) (2024.2)\n",
      "Requirement already satisfied: tzdata>=2022.7 in c:\\users\\althouraya\\appdata\\local\\packages\\pythonsoftwarefoundation.python.3.11_qbz5n2kfra8p0\\localcache\\local-packages\\python311\\site-packages (from pandas) (2024.2)\n",
      "Requirement already satisfied: six>=1.5 in c:\\users\\althouraya\\appdata\\local\\packages\\pythonsoftwarefoundation.python.3.11_qbz5n2kfra8p0\\localcache\\local-packages\\python311\\site-packages (from python-dateutil>=2.8.2->pandas) (1.17.0)\n",
      "Note: you may need to restart the kernel to use updated packages.\n"
     ]
    },
    {
     "name": "stderr",
     "output_type": "stream",
     "text": [
      "\n",
      "[notice] A new release of pip is available: 24.0 -> 24.3.1\n",
      "[notice] To update, run: C:\\Users\\ALTHOURAYA\\AppData\\Local\\Microsoft\\WindowsApps\\PythonSoftwareFoundation.Python.3.11_qbz5n2kfra8p0\\python.exe -m pip install --upgrade pip\n"
     ]
    }
   ],
   "source": [
    "%pip install pandas"
   ]
  },
  {
   "cell_type": "code",
   "execution_count": 3,
   "metadata": {},
   "outputs": [],
   "source": [
    "Transaction_Fact_insert = '''insert into Transaction_Fact (TransactionID, ProductID, DateID ,CustomerID, CategoryID, SupplierID, OrderID, Quantity, UnitPrice, TotalAmount ) values(:1, :2, :3, :4, :5, :6, :7, :8, :9, :10)'''"
   ]
  },
  {
   "cell_type": "code",
   "execution_count": 4,
   "metadata": {},
   "outputs": [
    {
     "name": "stdout",
     "output_type": "stream",
     "text": [
      "Connected to Oracle Database\n"
     ]
    }
   ],
   "source": [
    "import oracledb\n",
    "import pandas as pd\n",
    "\n",
    "# Connect to the Oracle database\n",
    "operational_connection = oracledb.connect(user=\"walmart\", password=\"walmart\", dsn=\"127.0.0.1:1521/xepdb1\")\n",
    "print(\"Connected to Oracle Database\")\n",
    " \n",
    "# Create a cursor to execute queries\n",
    "operational_cursor = operational_connection.cursor()\n",
    "def get_data_frame(cursor, query):\n",
    "    # Execute the SQL query\n",
    "    cursor.execute(query)\n",
    "    # Fetch all rows from the query result\n",
    "    data = cursor.fetchall()\n",
    "    # Get column names (metadata)\n",
    "    columns = [desc[0] for desc in cursor.description]\n",
    "    # Convert the data into a pandas DataFrame\n",
    "    df = pd.DataFrame(data, columns=columns)\n",
    "    return df"
   ]
  },
  {
   "cell_type": "code",
   "execution_count": 5,
   "metadata": {},
   "outputs": [],
   "source": [
    "query='''SELECT c.CategoryID, p.ProductID, p.SupplierID,\n",
    " cu.CUSTOMERID, o.OrderID, od.ORDERDETAILID, o.TotalAmount,\n",
    "  o.ORDERDATE, od.UNITPRICE, od.Quantity\n",
    "\n",
    "FROM walmart.Categories c\n",
    "JOIN walmart.Products p ON c.CategoryID = p.CategoryID\n",
    "JOIN walmart.Suppliers s ON p.SupplierID = s.SupplierID\n",
    "JOIN walmart.OrderDetails od ON p.ProductID = od.ProductID\n",
    "JOIN walmart.Orders o ON od.OrderID = o.OrderID\n",
    "JOIN walmart.Customers cu ON o.CustomerID = cu.CustomerID'''\n",
    "\n"
   ]
  },
  {
   "cell_type": "code",
   "execution_count": 39,
   "metadata": {},
   "outputs": [],
   "source": [
    "fact_table = get_data_frame(operational_cursor, query)"
   ]
  },
  {
   "cell_type": "code",
   "execution_count": 40,
   "metadata": {},
   "outputs": [
    {
     "name": "stdout",
     "output_type": "stream",
     "text": [
      "Connected to Oracle Database\n"
     ]
    }
   ],
   "source": [
    "fact_df = get_data_frame(operational_cursor, query)\n",
    "                         # Connect to the Oracle database\n",
    "star_connection = oracledb.connect(user=\"walmart_star_schema\", password=\"walmart\", dsn=\"127.0.0.1:1521/xepdb1\")\n",
    "star_cursor = star_connection.cursor()\n",
    "print(\"Connected to Oracle Database\")\n",
    "def insert_data_frame(cursor, query, dataFrame):\n",
    "    for i, row in dataFrame.iterrows():\n",
    "        cursor.execute(query, tuple(row))\n",
    "    cursor.execute('commit')"
   ]
  },
  {
   "cell_type": "code",
   "execution_count": 41,
   "metadata": {},
   "outputs": [],
   "source": [
    "# Load customer_dim data and put into a data frame. \n",
    "customer_dim_query = \"SELECT  Row_ID, CustomerID FROM walmart_star_schema.CUSTOMER_DIM\"\n",
    "customer_dim_df = get_data_frame(star_cursor, customer_dim_query)\n"
   ]
  },
  {
   "cell_type": "code",
   "execution_count": 42,
   "metadata": {},
   "outputs": [],
   "source": [
    "\n",
    "fact_table = pd.merge(fact_table, customer_dim_df[['CUSTOMERID', 'ROW_ID']], \n",
    "                      left_on='CUSTOMERID', right_on='CUSTOMERID', how='inner')\n"
   ]
  },
  {
   "cell_type": "code",
   "execution_count": 47,
   "metadata": {},
   "outputs": [
    {
     "name": "stdout",
     "output_type": "stream",
     "text": [
      "Empty DataFrame\n",
      "Columns: [CATEGORYID, PRODUCTID, SUPPLIERID, CUSTOMERID, ORDERID, ORDERDETAILID, TOTALAMOUNT, ORDERDATE, UNITPRICE, QUANTITY, ROW_ID]\n",
      "Index: []\n"
     ]
    }
   ],
   "source": [
    "print(fact_table.head())"
   ]
  },
  {
   "cell_type": "code",
   "execution_count": 49,
   "metadata": {},
   "outputs": [
    {
     "name": "stdout",
     "output_type": "stream",
     "text": [
      "Empty DataFrame\n",
      "Columns: [ROW_ID, CUSTOMERID]\n",
      "Index: []\n"
     ]
    }
   ],
   "source": [
    "print(customer_dim_df)"
   ]
  },
  {
   "cell_type": "code",
   "execution_count": 50,
   "metadata": {},
   "outputs": [
    {
     "name": "stdout",
     "output_type": "stream",
     "text": [
      "insert into Transaction_Fact (TransactionID, ProductID, DateID ,CustomerID, CategoryID, SupplierID, OrderID, Quantity, UnitPrice, TotalAmount ) values(:1, :2, :3, :4, :5, :6, :7, :8, :9, :10)\n"
     ]
    }
   ],
   "source": []
  }
 ],
 "metadata": {
  "kernelspec": {
   "display_name": "Python 3",
   "language": "python",
   "name": "python3"
  },
  "language_info": {
   "codemirror_mode": {
    "name": "ipython",
    "version": 3
   },
   "file_extension": ".py",
   "mimetype": "text/x-python",
   "name": "python",
   "nbconvert_exporter": "python",
   "pygments_lexer": "ipython3",
   "version": "3.11.undefined"
  }
 },
 "nbformat": 4,
 "nbformat_minor": 2
}
