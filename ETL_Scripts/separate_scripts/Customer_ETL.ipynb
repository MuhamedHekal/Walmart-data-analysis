{
 "cells": [
  {
   "cell_type": "code",
   "execution_count": 1,
   "metadata": {},
   "outputs": [
    {
     "name": "stdout",
     "output_type": "stream",
     "text": [
      "Requirement already satisfied: oracledb in /opt/anaconda3/lib/python3.12/site-packages (2.5.1)\n",
      "Requirement already satisfied: cryptography>=3.2.1 in /opt/anaconda3/lib/python3.12/site-packages (from oracledb) (42.0.5)\n",
      "Requirement already satisfied: cffi>=1.12 in /opt/anaconda3/lib/python3.12/site-packages (from cryptography>=3.2.1->oracledb) (1.16.0)\n",
      "Requirement already satisfied: pycparser in /opt/anaconda3/lib/python3.12/site-packages (from cffi>=1.12->cryptography>=3.2.1->oracledb) (2.21)\n",
      "Note: you may need to restart the kernel to use updated packages.\n"
     ]
    }
   ],
   "source": [
    "%pip install oracledb"
   ]
  },
  {
   "cell_type": "code",
   "execution_count": 2,
   "metadata": {},
   "outputs": [],
   "source": [
    "\n",
    "customer_dim_insert = ''' insert into customer_dim (CustomerId, FirstName, LastName, Email, Phone, Address, MembershipDate) values(:1, :2, :3, :4, :5, :6, :7) '''\n"
   ]
  },
  {
   "cell_type": "code",
   "execution_count": 3,
   "metadata": {},
   "outputs": [
    {
     "name": "stdout",
     "output_type": "stream",
     "text": [
      "Connected to Oracle Database\n"
     ]
    }
   ],
   "source": [
    "import oracledb\n",
    "import pandas as pd\n",
    "\n",
    "# Connect to the Oracle database\n",
    "operational_connection = oracledb.connect(user=\"walmart\", password=\"walmart\", dsn=\"127.0.0.1:1521/freepdb1\")\n",
    "print(\"Connected to Oracle Database\")\n",
    " \n",
    "# Create a cursor to execute queries\n",
    "operational_cursor = operational_connection.cursor()\n",
    "def get_data_frame(cursor, query):\n",
    "    # Execute the SQL query\n",
    "    cursor.execute(query)\n",
    "    # Fetch all rows from the query result\n",
    "    data = cursor.fetchall()\n",
    "    # Get column names (metadata)\n",
    "    columns = [desc[0] for desc in cursor.description]\n",
    "    # Convert the data into a pandas DataFrame\n",
    "    df = pd.DataFrame(data, columns=columns)\n",
    "    return df"
   ]
  },
  {
   "cell_type": "code",
   "execution_count": 5,
   "metadata": {},
   "outputs": [
    {
     "data": {
      "text/html": [
       "<div>\n",
       "<style scoped>\n",
       "    .dataframe tbody tr th:only-of-type {\n",
       "        vertical-align: middle;\n",
       "    }\n",
       "\n",
       "    .dataframe tbody tr th {\n",
       "        vertical-align: top;\n",
       "    }\n",
       "\n",
       "    .dataframe thead th {\n",
       "        text-align: right;\n",
       "    }\n",
       "</style>\n",
       "<table border=\"1\" class=\"dataframe\">\n",
       "  <thead>\n",
       "    <tr style=\"text-align: right;\">\n",
       "      <th></th>\n",
       "      <th>CUSTOMERID</th>\n",
       "      <th>FIRSTNAME</th>\n",
       "      <th>LASTNAME</th>\n",
       "      <th>EMAIL</th>\n",
       "      <th>PHONE</th>\n",
       "      <th>ADDRESS</th>\n",
       "      <th>MEMBERSHIPDATE</th>\n",
       "    </tr>\n",
       "  </thead>\n",
       "  <tbody>\n",
       "    <tr>\n",
       "      <th>0</th>\n",
       "      <td>86</td>\n",
       "      <td>Alexander</td>\n",
       "      <td>Peterson</td>\n",
       "      <td>alexander.peterson@gmail.com</td>\n",
       "      <td>555-186-6789</td>\n",
       "      <td>8600 Birchwood Lane, Seattle, WA, USA</td>\n",
       "      <td>2021-10-12</td>\n",
       "    </tr>\n",
       "    <tr>\n",
       "      <th>1</th>\n",
       "      <td>87</td>\n",
       "      <td>Mia</td>\n",
       "      <td>Cook</td>\n",
       "      <td>mia.cook@yahoo.com</td>\n",
       "      <td>555-187-7890</td>\n",
       "      <td>8700 Palm Avenue, Portland, OR, USA</td>\n",
       "      <td>2022-03-16</td>\n",
       "    </tr>\n",
       "    <tr>\n",
       "      <th>2</th>\n",
       "      <td>88</td>\n",
       "      <td>Lucas</td>\n",
       "      <td>Bailey</td>\n",
       "      <td>lucas.bailey@hotmail.com</td>\n",
       "      <td>555-188-8901</td>\n",
       "      <td>8800 Elm Street, Denver, CO, USA</td>\n",
       "      <td>2023-06-29</td>\n",
       "    </tr>\n",
       "    <tr>\n",
       "      <th>3</th>\n",
       "      <td>89</td>\n",
       "      <td>Amelia</td>\n",
       "      <td>Gray</td>\n",
       "      <td>amelia.gray@outlook.com</td>\n",
       "      <td>555-189-9012</td>\n",
       "      <td>8900 Spruce Avenue, Columbus, OH, USA</td>\n",
       "      <td>2021-12-07</td>\n",
       "    </tr>\n",
       "    <tr>\n",
       "      <th>4</th>\n",
       "      <td>90</td>\n",
       "      <td>Logan</td>\n",
       "      <td>Powell</td>\n",
       "      <td>logan.powell@aol.com</td>\n",
       "      <td>555-190-0123</td>\n",
       "      <td>9000 Redwood Boulevard, Kansas City, MO, USA</td>\n",
       "      <td>2022-05-01</td>\n",
       "    </tr>\n",
       "  </tbody>\n",
       "</table>\n",
       "</div>"
      ],
      "text/plain": [
       "   CUSTOMERID  FIRSTNAME  LASTNAME                         EMAIL  \\\n",
       "0          86  Alexander  Peterson  alexander.peterson@gmail.com   \n",
       "1          87        Mia      Cook            mia.cook@yahoo.com   \n",
       "2          88      Lucas    Bailey      lucas.bailey@hotmail.com   \n",
       "3          89     Amelia      Gray       amelia.gray@outlook.com   \n",
       "4          90      Logan    Powell          logan.powell@aol.com   \n",
       "\n",
       "          PHONE                                       ADDRESS MEMBERSHIPDATE  \n",
       "0  555-186-6789         8600 Birchwood Lane, Seattle, WA, USA     2021-10-12  \n",
       "1  555-187-7890           8700 Palm Avenue, Portland, OR, USA     2022-03-16  \n",
       "2  555-188-8901              8800 Elm Street, Denver, CO, USA     2023-06-29  \n",
       "3  555-189-9012         8900 Spruce Avenue, Columbus, OH, USA     2021-12-07  \n",
       "4  555-190-0123  9000 Redwood Boulevard, Kansas City, MO, USA     2022-05-01  "
      ]
     },
     "execution_count": 5,
     "metadata": {},
     "output_type": "execute_result"
    }
   ],
   "source": [
    "customer_df = get_data_frame(operational_cursor, \"select CustomerId, FirstName, LastName, Email, Phone, Address, MembershipDate from Customers\")\n",
    "customer_df.head()"
   ]
  },
  {
   "cell_type": "code",
   "execution_count": 6,
   "metadata": {},
   "outputs": [
    {
     "name": "stdout",
     "output_type": "stream",
     "text": [
      "Connected to Oracle Database\n"
     ]
    }
   ],
   "source": [
    "customer_df = get_data_frame(operational_cursor, \"select CustomerId, FirstName, LastName, Email, Phone, Address, MembershipDate from Customers\")\n",
    "# Connect to the Oracle database\n",
    "star_connection = oracledb.connect(user=\"walmart_star_schema\", password=\"walmart\", dsn=\"127.0.0.1:1521/freepdb1\")\n",
    "star_cursor = star_connection.cursor()\n",
    "print(\"Connected to Oracle Database\")\n",
    "def insert_data_frame(cursor, query, dataFrame):\n",
    "    for i, row in dataFrame.iterrows():\n",
    "        cursor.execute(query, tuple(row))\n",
    "    cursor.execute('commit')"
   ]
  },
  {
   "cell_type": "code",
   "execution_count": 8,
   "metadata": {},
   "outputs": [],
   "source": [
    "insert_data_frame(star_cursor, customer_dim_insert ,customer_df)"
   ]
  }
 ],
 "metadata": {
  "kernelspec": {
   "display_name": "base",
   "language": "python",
   "name": "python3"
  },
  "language_info": {
   "codemirror_mode": {
    "name": "ipython",
    "version": 3
   },
   "file_extension": ".py",
   "mimetype": "text/x-python",
   "name": "python",
   "nbconvert_exporter": "python",
   "pygments_lexer": "ipython3",
   "version": "3.12.4"
  }
 },
 "nbformat": 4,
 "nbformat_minor": 2
}
