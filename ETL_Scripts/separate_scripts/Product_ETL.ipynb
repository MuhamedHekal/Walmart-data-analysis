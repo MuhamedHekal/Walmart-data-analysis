{
 "cells": [
  {
   "cell_type": "code",
   "execution_count": 1,
   "metadata": {},
   "outputs": [
    {
     "name": "stdout",
     "output_type": "stream",
     "text": [
      "Requirement already satisfied: oracledb in /opt/anaconda3/lib/python3.12/site-packages (2.5.1)\n",
      "Requirement already satisfied: cryptography>=3.2.1 in /opt/anaconda3/lib/python3.12/site-packages (from oracledb) (42.0.5)\n",
      "Requirement already satisfied: cffi>=1.12 in /opt/anaconda3/lib/python3.12/site-packages (from cryptography>=3.2.1->oracledb) (1.16.0)\n",
      "Requirement already satisfied: pycparser in /opt/anaconda3/lib/python3.12/site-packages (from cffi>=1.12->cryptography>=3.2.1->oracledb) (2.21)\n"
     ]
    }
   ],
   "source": [
    "!pip install oracledb"
   ]
  },
  {
   "cell_type": "code",
   "execution_count": 2,
   "metadata": {},
   "outputs": [],
   "source": [
    "product_dim_insert =  \"insert into PRODUCT_DIM(PRODUCTID,PRODUCTNAME,PRICE) values(:1, :2, :3)\""
   ]
  },
  {
   "cell_type": "code",
   "execution_count": 3,
   "metadata": {},
   "outputs": [
    {
     "name": "stdout",
     "output_type": "stream",
     "text": [
      "Connected to Oracle Database\n"
     ]
    }
   ],
   "source": [
    "import oracledb\n",
    "import pandas as pd\n",
    "\n",
    "# Connect to the Oracle database\n",
    "operational_connection = oracledb.connect(user=\"walmart\", password=\"walmart\", dsn=\"127.0.0.1:1521/freepdb1\")\n",
    "print(\"Connected to Oracle Database\")\n",
    " \n",
    "# Create a cursor to execute queries\n",
    "operational_cursor = operational_connection.cursor()\n",
    "def get_data_frame(cursor, querey):\n",
    "    # Execute the SQL query\n",
    "    cursor.execute(querey)\n",
    "    # Fetch all rows from the query result\n",
    "    data = cursor.fetchall()\n",
    "    # Get column names (metadata)\n",
    "    columns = [desc[0] for desc in cursor.description]\n",
    "    # Convert the data into a pandas DataFrame\n",
    "    df = pd.DataFrame(data, columns=columns)\n",
    "    return df"
   ]
  },
  {
   "cell_type": "code",
   "execution_count": 4,
   "metadata": {},
   "outputs": [
    {
     "name": "stdout",
     "output_type": "stream",
     "text": [
      "Connected to Oracle Database\n"
     ]
    }
   ],
   "source": [
    "product_df = get_data_frame(operational_cursor, \"select PRODUCTID, PRODUCTNAME, PRICE  from products\")\n",
    "# Connect to the Oracle database\n",
    "star_connection = oracledb.connect(user=\"walmart_star_schema\", password=\"walmart\", dsn=\"127.0.0.1:1521/freepdb1\")\n",
    "star_cursor = star_connection.cursor()\n",
    "print(\"Connected to Oracle Database\")\n",
    "def insert_data_frame(cursor, querey, dataFrame):\n",
    "    for i, row in dataFrame.iterrows():\n",
    "        cursor.execute(querey, tuple(row))\n",
    "    cursor.execute('commit')"
   ]
  },
  {
   "cell_type": "code",
   "execution_count": 5,
   "metadata": {},
   "outputs": [],
   "source": [
    "insert_data_frame(star_cursor, product_dim_insert ,product_df)"
   ]
  },
  {
   "cell_type": "code",
   "execution_count": null,
   "metadata": {},
   "outputs": [],
   "source": []
  }
 ],
 "metadata": {
  "kernelspec": {
   "display_name": "base",
   "language": "python",
   "name": "python3"
  },
  "language_info": {
   "codemirror_mode": {
    "name": "ipython",
    "version": 3
   },
   "file_extension": ".py",
   "mimetype": "text/x-python",
   "name": "python",
   "nbconvert_exporter": "python",
   "pygments_lexer": "ipython3",
   "version": "3.12.4"
  }
 },
 "nbformat": 4,
 "nbformat_minor": 2
}
