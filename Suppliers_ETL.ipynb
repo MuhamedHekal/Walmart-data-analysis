{
 "cells": [
  {
   "cell_type": "code",
   "execution_count": 6,
   "metadata": {},
   "outputs": [
    {
     "name": "stdout",
     "output_type": "stream",
     "text": [
      "Defaulting to user installation because normal site-packages is not writeable\n",
      "Requirement already satisfied: oracledb in c:\\users\\hania hesham\\appdata\\roaming\\python\\python311\\site-packages (2.5.1)\n",
      "Requirement already satisfied: cryptography>=3.2.1 in c:\\programdata\\anaconda3\\lib\\site-packages (from oracledb) (42.0.2)\n",
      "Requirement already satisfied: cffi>=1.12 in c:\\programdata\\anaconda3\\lib\\site-packages (from cryptography>=3.2.1->oracledb) (1.16.0)\n",
      "Requirement already satisfied: pycparser in c:\\programdata\\anaconda3\\lib\\site-packages (from cffi>=1.12->cryptography>=3.2.1->oracledb) (2.21)\n",
      "Note: you may need to restart the kernel to use updated packages.\n"
     ]
    }
   ],
   "source": [
    "%pip install oracledb"
   ]
  },
  {
   "cell_type": "code",
   "execution_count": 3,
   "metadata": {},
   "outputs": [],
   "source": [
    "suppliers_dim_insert = '''insert into suppliers_dim (SupplierID, SupplierName, ContactName, Phone, Email, Address) values(:1, :2, :3, :4,:5, :6)'''\n",
    "suppliers_dim_select = \"select SupplierID, SupplierName, ContactName, Phone, Email, Address from suppliers\""
   ]
  },
  {
   "cell_type": "code",
   "execution_count": 5,
   "metadata": {},
   "outputs": [
    {
     "ename": "ModuleNotFoundError",
     "evalue": "No module named 'oracledb'",
     "output_type": "error",
     "traceback": [
      "\u001b[1;31m---------------------------------------------------------------------------\u001b[0m",
      "\u001b[1;31mModuleNotFoundError\u001b[0m                       Traceback (most recent call last)",
      "Cell \u001b[1;32mIn[5], line 1\u001b[0m\n\u001b[1;32m----> 1\u001b[0m \u001b[38;5;28;01mimport\u001b[39;00m \u001b[38;5;21;01moracledb\u001b[39;00m\n\u001b[0;32m      2\u001b[0m \u001b[38;5;28;01mimport\u001b[39;00m \u001b[38;5;21;01mpandas\u001b[39;00m \u001b[38;5;28;01mas\u001b[39;00m \u001b[38;5;21;01mpd\u001b[39;00m\n\u001b[0;32m      4\u001b[0m \u001b[38;5;66;03m# Connect to the Oracle database\u001b[39;00m\n",
      "\u001b[1;31mModuleNotFoundError\u001b[0m: No module named 'oracledb'"
     ]
    }
   ],
   "source": [
    "import oracledb\n",
    "import pandas as pd\n",
    "\n",
    "# Connect to the Oracle database\n",
    "operational_connection = oracledb.connect(user=\"walmart\", password=\"walmart\", dsn=\"127.0.0.1:1521/XEPDB1\")\n",
    "print(\"Connected to Oracle Database\")\n",
    " \n",
    "# Create a cursor to execute queries\n",
    "operational_cursor = operational_connection.cursor()\n",
    "def get_data_frame(cursor, query):\n",
    "    # Execute the SQL query\n",
    "    cursor.execute(query)\n",
    "    # Fetch all rows from the query result\n",
    "    data = cursor.fetchall()\n",
    "    # Get column names (metadata)\n",
    "    columns = [desc[0] for desc in cursor.description]\n",
    "    # Convert the data into a pandas DataFrame\n",
    "    df = pd.DataFrame(data, columns=columns)\n",
    "    return df"
   ]
  },
  {
   "cell_type": "code",
   "execution_count": 4,
   "metadata": {},
   "outputs": [
    {
     "ename": "NameError",
     "evalue": "name 'get_data_frame' is not defined",
     "output_type": "error",
     "traceback": [
      "\u001b[1;31m---------------------------------------------------------------------------\u001b[0m",
      "\u001b[1;31mNameError\u001b[0m                                 Traceback (most recent call last)",
      "Cell \u001b[1;32mIn[4], line 1\u001b[0m\n\u001b[1;32m----> 1\u001b[0m suppliers_df \u001b[38;5;241m=\u001b[39m get_data_frame(operational_cursor, suppliers_dim_select)\n\u001b[0;32m      2\u001b[0m suppliers_df\n",
      "\u001b[1;31mNameError\u001b[0m: name 'get_data_frame' is not defined"
     ]
    }
   ],
   "source": [
    "suppliers_df = get_data_frame(operational_cursor, suppliers_dim_select)\n",
    "suppliers_df"
   ]
  },
  {
   "cell_type": "code",
   "execution_count": 10,
   "metadata": {},
   "outputs": [
    {
     "name": "stdout",
     "output_type": "stream",
     "text": [
      "Connected to Oracle Database\n"
     ]
    }
   ],
   "source": [
    "\n",
    "# Connect to the Oracle database\n",
    "star_connection = oracledb.connect(user=\"walmart_star_schema\", password=\"walmart\", dsn=\"127.0.0.1:1521/freepdb1\")\n",
    "star_cursor = star_connection.cursor()\n",
    "print(\"Connected to Oracle Database\")\n",
    "def insert_data_frame(cursor, query, dataFrame):\n",
    "    for i, row in dataFrame.iterrows():\n",
    "        cursor.execute(query, tuple(row))\n",
    "    cursor.execute('commit')"
   ]
  },
  {
   "cell_type": "code",
   "execution_count": 11,
   "metadata": {},
   "outputs": [],
   "source": [
    "insert_data_frame(star_cursor, category_dim_insert ,category_df)"
   ]
  },
  {
   "cell_type": "code",
   "execution_count": 12,
   "metadata": {},
   "outputs": [
    {
     "data": {
      "text/html": [
       "<div>\n",
       "<style scoped>\n",
       "    .dataframe tbody tr th:only-of-type {\n",
       "        vertical-align: middle;\n",
       "    }\n",
       "\n",
       "    .dataframe tbody tr th {\n",
       "        vertical-align: top;\n",
       "    }\n",
       "\n",
       "    .dataframe thead th {\n",
       "        text-align: right;\n",
       "    }\n",
       "</style>\n",
       "<table border=\"1\" class=\"dataframe\">\n",
       "  <thead>\n",
       "    <tr style=\"text-align: right;\">\n",
       "      <th></th>\n",
       "      <th>CATEGORYID</th>\n",
       "      <th>CATEGORYNAME</th>\n",
       "      <th>DESCRIPTION</th>\n",
       "    </tr>\n",
       "  </thead>\n",
       "  <tbody>\n",
       "    <tr>\n",
       "      <th>0</th>\n",
       "      <td>1</td>\n",
       "      <td>Beverages</td>\n",
       "      <td>Soft drinks, coffees, teas, beers, and ales.</td>\n",
       "    </tr>\n",
       "    <tr>\n",
       "      <th>1</th>\n",
       "      <td>2</td>\n",
       "      <td>Condiments</td>\n",
       "      <td>Sweet and savory sauces, relishes, spreads, an...</td>\n",
       "    </tr>\n",
       "    <tr>\n",
       "      <th>2</th>\n",
       "      <td>3</td>\n",
       "      <td>Confections</td>\n",
       "      <td>Desserts, candies, and sweet breads.</td>\n",
       "    </tr>\n",
       "    <tr>\n",
       "      <th>3</th>\n",
       "      <td>4</td>\n",
       "      <td>Dairy Products</td>\n",
       "      <td>Cheeses and other dairy products.</td>\n",
       "    </tr>\n",
       "    <tr>\n",
       "      <th>4</th>\n",
       "      <td>5</td>\n",
       "      <td>Grains Cereals</td>\n",
       "      <td>Breads, crackers, pasta, and cereal.</td>\n",
       "    </tr>\n",
       "    <tr>\n",
       "      <th>5</th>\n",
       "      <td>6</td>\n",
       "      <td>Meat Poultry</td>\n",
       "      <td>Prepared meats.</td>\n",
       "    </tr>\n",
       "    <tr>\n",
       "      <th>6</th>\n",
       "      <td>7</td>\n",
       "      <td>Produce</td>\n",
       "      <td>Dried fruit and bean curd.</td>\n",
       "    </tr>\n",
       "    <tr>\n",
       "      <th>7</th>\n",
       "      <td>8</td>\n",
       "      <td>Seafood</td>\n",
       "      <td>Seaweed and fish.</td>\n",
       "    </tr>\n",
       "    <tr>\n",
       "      <th>8</th>\n",
       "      <td>9</td>\n",
       "      <td>Snacks</td>\n",
       "      <td>Chips, popcorn, and other snack foods.</td>\n",
       "    </tr>\n",
       "    <tr>\n",
       "      <th>9</th>\n",
       "      <td>10</td>\n",
       "      <td>Frozen Foods</td>\n",
       "      <td>Frozen meals, vegetables, and desserts.</td>\n",
       "    </tr>\n",
       "    <tr>\n",
       "      <th>10</th>\n",
       "      <td>11</td>\n",
       "      <td>Baking Goods</td>\n",
       "      <td>Flours, sugars, and baking mixes.</td>\n",
       "    </tr>\n",
       "    <tr>\n",
       "      <th>11</th>\n",
       "      <td>12</td>\n",
       "      <td>Personal Care</td>\n",
       "      <td>Shampoos, soaps, and other personal care produ...</td>\n",
       "    </tr>\n",
       "    <tr>\n",
       "      <th>12</th>\n",
       "      <td>13</td>\n",
       "      <td>Household Supplies</td>\n",
       "      <td>Cleaning supplies, paper products, and laundry...</td>\n",
       "    </tr>\n",
       "    <tr>\n",
       "      <th>13</th>\n",
       "      <td>14</td>\n",
       "      <td>Pet Supplies</td>\n",
       "      <td>Food and accessories for pets.</td>\n",
       "    </tr>\n",
       "    <tr>\n",
       "      <th>14</th>\n",
       "      <td>15</td>\n",
       "      <td>Health and Wellness</td>\n",
       "      <td>Vitamins, supplements, and health products.</td>\n",
       "    </tr>\n",
       "    <tr>\n",
       "      <th>15</th>\n",
       "      <td>16</td>\n",
       "      <td>Baby Products</td>\n",
       "      <td>Diapers, baby food, and infant care items.</td>\n",
       "    </tr>\n",
       "    <tr>\n",
       "      <th>16</th>\n",
       "      <td>17</td>\n",
       "      <td>Organic Foods</td>\n",
       "      <td>Foods made with organic ingredients.</td>\n",
       "    </tr>\n",
       "    <tr>\n",
       "      <th>17</th>\n",
       "      <td>18</td>\n",
       "      <td>Beverage Mixes</td>\n",
       "      <td>Powdered and liquid drink mixes.</td>\n",
       "    </tr>\n",
       "    <tr>\n",
       "      <th>18</th>\n",
       "      <td>19</td>\n",
       "      <td>International Foods</td>\n",
       "      <td>Specialty foods from different cuisines.</td>\n",
       "    </tr>\n",
       "    <tr>\n",
       "      <th>19</th>\n",
       "      <td>20</td>\n",
       "      <td>Canned Goods</td>\n",
       "      <td>Canned vegetables, fruits, and soups.</td>\n",
       "    </tr>\n",
       "    <tr>\n",
       "      <th>20</th>\n",
       "      <td>21</td>\n",
       "      <td>Ready-to-Eat Meals</td>\n",
       "      <td>Pre-packaged meals that are ready to eat.</td>\n",
       "    </tr>\n",
       "    <tr>\n",
       "      <th>21</th>\n",
       "      <td>22</td>\n",
       "      <td>Gluten-Free Products</td>\n",
       "      <td>Foods suitable for a gluten-free diet.</td>\n",
       "    </tr>\n",
       "  </tbody>\n",
       "</table>\n",
       "</div>"
      ],
      "text/plain": [
       "    CATEGORYID          CATEGORYNAME  \\\n",
       "0            1             Beverages   \n",
       "1            2            Condiments   \n",
       "2            3           Confections   \n",
       "3            4        Dairy Products   \n",
       "4            5        Grains Cereals   \n",
       "5            6          Meat Poultry   \n",
       "6            7               Produce   \n",
       "7            8               Seafood   \n",
       "8            9                Snacks   \n",
       "9           10          Frozen Foods   \n",
       "10          11          Baking Goods   \n",
       "11          12         Personal Care   \n",
       "12          13    Household Supplies   \n",
       "13          14          Pet Supplies   \n",
       "14          15   Health and Wellness   \n",
       "15          16         Baby Products   \n",
       "16          17         Organic Foods   \n",
       "17          18        Beverage Mixes   \n",
       "18          19   International Foods   \n",
       "19          20          Canned Goods   \n",
       "20          21    Ready-to-Eat Meals   \n",
       "21          22  Gluten-Free Products   \n",
       "\n",
       "                                          DESCRIPTION  \n",
       "0        Soft drinks, coffees, teas, beers, and ales.  \n",
       "1   Sweet and savory sauces, relishes, spreads, an...  \n",
       "2                Desserts, candies, and sweet breads.  \n",
       "3                   Cheeses and other dairy products.  \n",
       "4                Breads, crackers, pasta, and cereal.  \n",
       "5                                     Prepared meats.  \n",
       "6                          Dried fruit and bean curd.  \n",
       "7                                   Seaweed and fish.  \n",
       "8              Chips, popcorn, and other snack foods.  \n",
       "9             Frozen meals, vegetables, and desserts.  \n",
       "10                  Flours, sugars, and baking mixes.  \n",
       "11  Shampoos, soaps, and other personal care produ...  \n",
       "12  Cleaning supplies, paper products, and laundry...  \n",
       "13                     Food and accessories for pets.  \n",
       "14        Vitamins, supplements, and health products.  \n",
       "15         Diapers, baby food, and infant care items.  \n",
       "16               Foods made with organic ingredients.  \n",
       "17                   Powdered and liquid drink mixes.  \n",
       "18           Specialty foods from different cuisines.  \n",
       "19              Canned vegetables, fruits, and soups.  \n",
       "20          Pre-packaged meals that are ready to eat.  \n",
       "21             Foods suitable for a gluten-free diet.  "
      ]
     },
     "execution_count": 12,
     "metadata": {},
     "output_type": "execute_result"
    }
   ],
   "source": [
    "category_df"
   ]
  },
  {
   "cell_type": "code",
   "execution_count": null,
   "metadata": {},
   "outputs": [],
   "source": []
  }
 ],
 "metadata": {
  "kernelspec": {
   "display_name": "base",
   "language": "python",
   "name": "python3"
  },
  "language_info": {
   "codemirror_mode": {
    "name": "ipython",
    "version": 3
   },
   "file_extension": ".py",
   "mimetype": "text/x-python",
   "name": "python",
   "nbconvert_exporter": "python",
   "pygments_lexer": "ipython3",
   "version": "3.11.7"
  }
 },
 "nbformat": 4,
 "nbformat_minor": 2
}
