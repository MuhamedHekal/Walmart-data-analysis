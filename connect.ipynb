{
 "cells": [
  {
   "cell_type": "code",
   "execution_count": null,
   "metadata": {},
   "outputs": [],
   "source": [
    "!pip install oracledb"
   ]
  },
  {
   "cell_type": "code",
   "execution_count": 26,
   "metadata": {},
   "outputs": [
    {
     "name": "stdout",
     "output_type": "stream",
     "text": [
      "Connected to Oracle Database\n",
      "(1, 'Beverage Distributors Co.', 'John Smith', '123-456-7890', 'john.smith@beveragedist.com', <oracledb.LOB object at 0x125487440>)\n",
      "(2, 'Global Condiments Ltd.', 'Sarah Johnson', '234-567-8901', 'sarah.johnson@globalcondiments.com', <oracledb.LOB object at 0x125486db0>)\n",
      "(3, 'Sweet Treats Inc.', 'Emily Davis', '345-678-9012', 'emily.davis@sweettreats.com', <oracledb.LOB object at 0x125486ba0>)\n",
      "(4, 'Dairy Farms LLC', 'Michael Brown', '456-789-0123', 'michael.brown@dairyfarms.com', <oracledb.LOB object at 0x125487440>)\n",
      "(5, 'Grain Supplies Corp.', 'Laura Wilson', '567-890-1234', 'laura.wilson@grainsupplies.com', <oracledb.LOB object at 0x1254846b0>)\n",
      "(6, 'Fresh Meats Co.', 'David Martinez', '678-901-2345', 'david.martinez@freshmeats.com', <oracledb.LOB object at 0x126be2300>)\n",
      "(7, 'Organic Produce LLC', 'Jessica Garcia', '789-012-3456', 'jessica.garcia@organicproduce.com', <oracledb.LOB object at 0x126be1850>)\n",
      "(8, 'Ocean Catch Inc.', 'Daniel Lee', '890-123-4567', 'daniel.lee@oceancatch.com', <oracledb.LOB object at 0x126be1bb0>)\n",
      "(9, 'Snack Time Co.', 'Karen Taylor', '901-234-5678', 'karen.taylor@snacktime.com', <oracledb.LOB object at 0x126be2930>)\n",
      "(10, 'Frozen Delights Ltd.', 'Andrew Robinson', '012-345-6789', 'andrew.robinson@frozendelights.com', <oracledb.LOB object at 0x126be1a90>)\n",
      "(11, 'Baking Supplies Inc.', 'Sophia Clark', '123-456-7890', 'sophia.clark@bakingsupplies.com', <oracledb.LOB object at 0x126be08f0>)\n",
      "(12, 'Personal Care Products Co.', 'Ryan Hall', '234-567-8901', 'ryan.hall@personalcare.com', <oracledb.LOB object at 0x126be28d0>)\n",
      "(13, 'Household Essentials Ltd.', 'Megan Allen', '345-678-9012', 'megan.allen@householdessentials.com', <oracledb.LOB object at 0x126be2a20>)\n",
      "(14, 'Pet Lovers Supplies', 'Joshua Wright', '456-789-0123', 'joshua.wright@petlovers.com', <oracledb.LOB object at 0x126be1d60>)\n",
      "(15, 'Health and Wellness Co.', 'Natalie King', '567-890-1234', 'natalie.king@healthandwellness.com', <oracledb.LOB object at 0x126be0bf0>)\n",
      "(16, 'Baby Care Supplies', 'Samuel Scott', '678-901-2345', 'samuel.scott@babycaresupplies.com', <oracledb.LOB object at 0x126be1730>)\n",
      "(17, 'Organic Farmers Ltd.', 'Victoria Adams', '789-012-3456', 'victoria.adams@organicfarmers.com', <oracledb.LOB object at 0x126be14f0>)\n",
      "(18, 'Drink Mix Specialists', 'Benjamin Lopez', '890-123-4567', 'benjamin.lopez@drinkmix.com', <oracledb.LOB object at 0x126be24b0>)\n",
      "(19, 'International Foods Inc.', 'Hannah Hill', '901-234-5678', 'hannah.hill@intlfoods.com', <oracledb.LOB object at 0x126be1310>)\n",
      "(20, 'Canned Goods Co.', 'Christopher Green', '012-345-6789', 'christopher.green@cannedgoods.com', <oracledb.LOB object at 0x126be0b30>)\n"
     ]
    }
   ],
   "source": [
    "import oracledb\n",
    "\n",
    "# Enable thin mode (no need for Oracle Client libraries)\n",
    "connection = oracledb.connect(user=\"walmart\", password=\"walmart\", dsn=\"127.0.0.1:1521/freepdb1\")\n",
    "print(\"Connected to Oracle Database\")\n",
    "\n",
    "cursor = connection.cursor()\n",
    "cursor.execute(\"SELECT 'hello' from dual\")\n",
    "for row in cursor:\n",
    "    print(row)\n",
    "\n",
    "connection.close()"
   ]
  }
 ],
 "metadata": {
  "kernelspec": {
   "display_name": "base",
   "language": "python",
   "name": "python3"
  },
  "language_info": {
   "codemirror_mode": {
    "name": "ipython",
    "version": 3
   },
   "file_extension": ".py",
   "mimetype": "text/x-python",
   "name": "python",
   "nbconvert_exporter": "python",
   "pygments_lexer": "ipython3",
   "version": "3.12.4"
  }
 },
 "nbformat": 4,
 "nbformat_minor": 2
}
