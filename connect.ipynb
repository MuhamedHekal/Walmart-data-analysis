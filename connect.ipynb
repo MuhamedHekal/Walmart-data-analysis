{
 "cells": [
  {
   "cell_type": "code",
   "execution_count": 5,
   "metadata": {},
   "outputs": [
    {
     "name": "stdout",
     "output_type": "stream",
     "text": [
      "Database connection error: DPI-1047: Cannot locate a 64-bit Oracle Client library: \"dlopen(libclntsh.dylib, 0x0001): tried: 'libclntsh.dylib' (no such file), '/System/Volumes/Preboot/Cryptexes/OSlibclntsh.dylib' (no such file), '/opt/anaconda3/lib/libclntsh.dylib' (no such file), '/System/Volumes/Preboot/Cryptexes/OS/opt/anaconda3/lib/libclntsh.dylib' (no such file), '/opt/anaconda3/bin/../lib/libclntsh.dylib' (no such file), '/usr/lib/libclntsh.dylib' (no such file, not in dyld cache), 'libclntsh.dylib' (no such file)\". See https://cx-oracle.readthedocs.io/en/latest/user_guide/installation.html for help\n"
     ]
    }
   ],
   "source": [
    "import cx_Oracle\n",
    "\n",
    "# Connection parameters\n",
    "host = \"localhost\"  # Replace with your Docker container's IP if not localhost\n",
    "port = \"1521\"       # Default Oracle port\n",
    "service_name = \"freepdb1\"  # Replace with your service name (e.g., \"orcl\")\n",
    "username = \"walmart\"  # Replace with your Oracle username\n",
    "password = \"walmart\"  # Replace with your Oracle password\n",
    "\n",
    "# Create a connection string\n",
    "dsn = cx_Oracle.makedsn(host, port, service_name=service_name)\n",
    "\n",
    "try:\n",
    "    # Connect to the Oracle database\n",
    "    connection = cx_Oracle.connect(user=username, password=password, dsn=dsn)\n",
    "    print(\"Connection successful!\")\n",
    "\n",
    "    # Example: Query the database\n",
    "    cursor = connection.cursor()\n",
    "    cursor.execute(\"SELECT * FROM dual\")\n",
    "    for row in cursor:\n",
    "        print(row)\n",
    "\n",
    "except cx_Oracle.DatabaseError as e:\n",
    "    print(f\"Database connection error: {e}\")\n",
    "finally:\n",
    "    # Close the connection\n",
    "    if 'connection' in locals() and connection:\n",
    "        connection.close()\n",
    "        print(\"Connection closed.\")"
   ]
  }
 ],
 "metadata": {
  "kernelspec": {
   "display_name": "base",
   "language": "python",
   "name": "python3"
  },
  "language_info": {
   "codemirror_mode": {
    "name": "ipython",
    "version": 3
   },
   "file_extension": ".py",
   "mimetype": "text/x-python",
   "name": "python",
   "nbconvert_exporter": "python",
   "pygments_lexer": "ipython3",
   "version": "3.12.4"
  }
 },
 "nbformat": 4,
 "nbformat_minor": 2
}
