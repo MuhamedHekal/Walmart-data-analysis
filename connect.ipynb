{
 "cells": [
  {
   "cell_type": "code",
   "execution_count": 3,
   "metadata": {},
   "outputs": [
    {
     "name": "stdout",
     "output_type": "stream",
     "text": [
      "Collecting oracledb\n",
      "  Downloading oracledb-2.5.1-cp312-cp312-macosx_10_13_universal2.whl.metadata (5.5 kB)\n",
      "Collecting cryptography>=3.2.1 (from oracledb)\n",
      "  Downloading cryptography-44.0.0-cp39-abi3-macosx_10_9_universal2.whl.metadata (5.7 kB)\n",
      "Collecting cffi>=1.12 (from cryptography>=3.2.1->oracledb)\n",
      "  Downloading cffi-1.17.1-cp312-cp312-macosx_11_0_arm64.whl.metadata (1.5 kB)\n",
      "Collecting pycparser (from cffi>=1.12->cryptography>=3.2.1->oracledb)\n",
      "  Downloading pycparser-2.22-py3-none-any.whl.metadata (943 bytes)\n",
      "Downloading oracledb-2.5.1-cp312-cp312-macosx_10_13_universal2.whl (3.8 MB)\n",
      "\u001b[2K   \u001b[90m━━━━━━━━━━━━━━━━━━━━━━━━━━━━━━━━━━━━━━━━\u001b[0m \u001b[32m3.8/3.8 MB\u001b[0m \u001b[31m3.4 MB/s\u001b[0m eta \u001b[36m0:00:00\u001b[0m00:01\u001b[0m00:01\u001b[0m\n",
      "\u001b[?25hDownloading cryptography-44.0.0-cp39-abi3-macosx_10_9_universal2.whl (6.5 MB)\n",
      "\u001b[2K   \u001b[90m━━━━━━━━━━━━━━━━━━━━━━━━━━━━━━━━━━━━━━━━\u001b[0m \u001b[32m6.5/6.5 MB\u001b[0m \u001b[31m3.8 MB/s\u001b[0m eta \u001b[36m0:00:00\u001b[0m00:01\u001b[0m00:01\u001b[0m\n",
      "\u001b[?25hDownloading cffi-1.17.1-cp312-cp312-macosx_11_0_arm64.whl (178 kB)\n",
      "\u001b[2K   \u001b[90m━━━━━━━━━━━━━━━━━━━━━━━━━━━━━━━━━━━━━━━━\u001b[0m \u001b[32m178.8/178.8 kB\u001b[0m \u001b[31m3.4 MB/s\u001b[0m eta \u001b[36m0:00:00\u001b[0ma \u001b[36m0:00:01\u001b[0m\n",
      "\u001b[?25hDownloading pycparser-2.22-py3-none-any.whl (117 kB)\n",
      "\u001b[2K   \u001b[90m━━━━━━━━━━━━━━━━━━━━━━━━━━━━━━━━━━━━━━━━\u001b[0m \u001b[32m117.6/117.6 kB\u001b[0m \u001b[31m3.3 MB/s\u001b[0m eta \u001b[36m0:00:00\u001b[0m\n",
      "\u001b[?25hInstalling collected packages: pycparser, cffi, cryptography, oracledb\n",
      "Successfully installed cffi-1.17.1 cryptography-44.0.0 oracledb-2.5.1 pycparser-2.22\n",
      "\n",
      "\u001b[1m[\u001b[0m\u001b[34;49mnotice\u001b[0m\u001b[1;39;49m]\u001b[0m\u001b[39;49m A new release of pip is available: \u001b[0m\u001b[31;49m24.0\u001b[0m\u001b[39;49m -> \u001b[0m\u001b[32;49m24.3.1\u001b[0m\n",
      "\u001b[1m[\u001b[0m\u001b[34;49mnotice\u001b[0m\u001b[1;39;49m]\u001b[0m\u001b[39;49m To update, run: \u001b[0m\u001b[32;49mpip3 install --upgrade pip\u001b[0m\n",
      "Note: you may need to restart the kernel to use updated packages.\n"
     ]
    }
   ],
   "source": [
    "%pip install oracledb"
   ]
  },
  {
   "cell_type": "code",
   "execution_count": null,
   "metadata": {},
   "outputs": [
    {
     "name": "stdout",
     "output_type": "stream",
     "text": [
      "Connected to Oracle Database\n",
      "(1, 'Beverage Distributors Co.', 'John Smith', '123-456-7890', 'john.smith@beveragedist.com', <oracledb.LOB object at 0x1665aacc0>)\n",
      "(2, 'Global Condiments Ltd.', 'Sarah Johnson', '234-567-8901', 'sarah.johnson@globalcondiments.com', <oracledb.LOB object at 0x1665aab70>)\n",
      "(3, 'Sweet Treats Inc.', 'Emily Davis', '345-678-9012', 'emily.davis@sweettreats.com', <oracledb.LOB object at 0x1665abf80>)\n",
      "(4, 'Dairy Farms LLC', 'Michael Brown', '456-789-0123', 'michael.brown@dairyfarms.com', <oracledb.LOB object at 0x1665aacc0>)\n",
      "(5, 'Grain Supplies Corp.', 'Laura Wilson', '567-890-1234', 'laura.wilson@grainsupplies.com', <oracledb.LOB object at 0x1665ab530>)\n",
      "(6, 'Fresh Meats Co.', 'David Martinez', '678-901-2345', 'david.martinez@freshmeats.com', <oracledb.LOB object at 0x1665ab0e0>)\n",
      "(7, 'Organic Produce LLC', 'Jessica Garcia', '789-012-3456', 'jessica.garcia@organicproduce.com', <oracledb.LOB object at 0x1665aa810>)\n",
      "(8, 'Ocean Catch Inc.', 'Daniel Lee', '890-123-4567', 'daniel.lee@oceancatch.com', <oracledb.LOB object at 0x1665aab10>)\n",
      "(9, 'Snack Time Co.', 'Karen Taylor', '901-234-5678', 'karen.taylor@snacktime.com', <oracledb.LOB object at 0x1665abb00>)\n",
      "(10, 'Frozen Delights Ltd.', 'Andrew Robinson', '012-345-6789', 'andrew.robinson@frozendelights.com', <oracledb.LOB object at 0x1665aa1e0>)\n",
      "(11, 'Baking Supplies Inc.', 'Sophia Clark', '123-456-7890', 'sophia.clark@bakingsupplies.com', <oracledb.LOB object at 0x1665a9e50>)\n",
      "(12, 'Personal Care Products Co.', 'Ryan Hall', '234-567-8901', 'ryan.hall@personalcare.com', <oracledb.LOB object at 0x1665aa2a0>)\n",
      "(13, 'Household Essentials Ltd.', 'Megan Allen', '345-678-9012', 'megan.allen@householdessentials.com', <oracledb.LOB object at 0x1665ab290>)\n",
      "(14, 'Pet Lovers Supplies', 'Joshua Wright', '456-789-0123', 'joshua.wright@petlovers.com', <oracledb.LOB object at 0x1665aabd0>)\n",
      "(15, 'Health and Wellness Co.', 'Natalie King', '567-890-1234', 'natalie.king@healthandwellness.com', <oracledb.LOB object at 0x167ae7a70>)\n",
      "(16, 'Baby Care Supplies', 'Samuel Scott', '678-901-2345', 'samuel.scott@babycaresupplies.com', <oracledb.LOB object at 0x167ae4830>)\n",
      "(17, 'Organic Farmers Ltd.', 'Victoria Adams', '789-012-3456', 'victoria.adams@organicfarmers.com', <oracledb.LOB object at 0x167ae72f0>)\n",
      "(18, 'Drink Mix Specialists', 'Benjamin Lopez', '890-123-4567', 'benjamin.lopez@drinkmix.com', <oracledb.LOB object at 0x167ae62a0>)\n",
      "(19, 'International Foods Inc.', 'Hannah Hill', '901-234-5678', 'hannah.hill@intlfoods.com', <oracledb.LOB object at 0x167ae5640>)\n",
      "(20, 'Canned Goods Co.', 'Christopher Green', '012-345-6789', 'christopher.green@cannedgoods.com', <oracledb.LOB object at 0x167ae46e0>)\n"
     ]
    }
   ],
   "source": [
    "import oracledb\n",
    "\n",
    "# Enable thin mode (no need for Oracle Client libraries)\n",
    "connection = oracledb.connect(user=\"walmart\", password=\"walmart\", dsn=\"127.0.0.1:1521/freepdb1\")\n",
    "print(\"Connected to Oracle Database\")\n",
    "\n",
    "cursor = connection.cursor()\n",
    "cursor.execute(\"SELECT * from suppliers\")\n",
    "for row in cursor:\n",
    "    print(row)\n",
    "\n",
    "connection.close()"
   ]
  },
  {
   "cell_type": "code",
   "execution_count": 43,
   "metadata": {},
   "outputs": [
    {
     "name": "stderr",
     "output_type": "stream",
     "text": [
      "27569.08s - pydevd: Sending message related to process being replaced timed-out after 5 seconds\n"
     ]
    },
    {
     "name": "stdout",
     "output_type": "stream",
     "text": [
      "Requirement already satisfied: sqlalchemy in /opt/anaconda3/lib/python3.12/site-packages (2.0.30)\n",
      "Requirement already satisfied: typing-extensions>=4.6.0 in /opt/anaconda3/lib/python3.12/site-packages (from sqlalchemy) (4.11.0)\n"
     ]
    },
    {
     "name": "stderr",
     "output_type": "stream",
     "text": [
      "27576.40s - pydevd: Sending message related to process being replaced timed-out after 5 seconds\n"
     ]
    },
    {
     "name": "stdout",
     "output_type": "stream",
     "text": [
      "Requirement already satisfied: oracledb in /opt/anaconda3/lib/python3.12/site-packages (2.5.1)\n",
      "Requirement already satisfied: cryptography>=3.2.1 in /opt/anaconda3/lib/python3.12/site-packages (from oracledb) (42.0.5)\n",
      "Requirement already satisfied: cffi>=1.12 in /opt/anaconda3/lib/python3.12/site-packages (from cryptography>=3.2.1->oracledb) (1.16.0)\n",
      "Requirement already satisfied: pycparser in /opt/anaconda3/lib/python3.12/site-packages (from cffi>=1.12->cryptography>=3.2.1->oracledb) (2.21)\n"
     ]
    }
   ],
   "source": [
    "!pip install sqlalchemy\n",
    "!pip install oracledb"
   ]
  },
  {
   "cell_type": "code",
   "execution_count": 87,
   "metadata": {},
   "outputs": [
    {
     "name": "stdout",
     "output_type": "stream",
     "text": [
      "Connected to Oracle Database\n"
     ]
    }
   ],
   "source": [
    "import oracledb\n",
    "import pandas as pd\n",
    "\n",
    "# Connect to the Oracle database\n",
    "connection = oracledb.connect(user=\"walmart\", password=\"walmart\", dsn=\"127.0.0.1:1521/freepdb1\")\n",
    "print(\"Connected to Oracle Database\")\n",
    " \n",
    "# Create a cursor to execute queries\n",
    "cursor = connection.cursor()\n",
    "\n",
    "# Execute the SQL query\n",
    "cursor.execute(\"SELECT * FROM products\")\n",
    "\n",
    "# Fetch all rows from the query result\n",
    "data = cursor.fetchall()\n",
    "\n",
    "# Get column names (metadata)\n",
    "columns = [desc[0] for desc in cursor.description]\n",
    "# Convert the data into a pandas DataFrame\n",
    "df = pd.DataFrame(data, columns=columns)\n",
    "\n"
   ]
  },
  {
   "cell_type": "code",
   "execution_count": 89,
   "metadata": {},
   "outputs": [
    {
     "data": {
      "text/html": [
       "<div>\n",
       "<style scoped>\n",
       "    .dataframe tbody tr th:only-of-type {\n",
       "        vertical-align: middle;\n",
       "    }\n",
       "\n",
       "    .dataframe tbody tr th {\n",
       "        vertical-align: top;\n",
       "    }\n",
       "\n",
       "    .dataframe thead th {\n",
       "        text-align: right;\n",
       "    }\n",
       "</style>\n",
       "<table border=\"1\" class=\"dataframe\">\n",
       "  <thead>\n",
       "    <tr style=\"text-align: right;\">\n",
       "      <th></th>\n",
       "      <th>PRODUCTID</th>\n",
       "      <th>PRODUCTNAME</th>\n",
       "      <th>PRICE</th>\n",
       "    </tr>\n",
       "  </thead>\n",
       "  <tbody>\n",
       "    <tr>\n",
       "      <th>0</th>\n",
       "      <td>1</td>\n",
       "      <td>Product A</td>\n",
       "      <td>50.0</td>\n",
       "    </tr>\n",
       "    <tr>\n",
       "      <th>1</th>\n",
       "      <td>2</td>\n",
       "      <td>Product B</td>\n",
       "      <td>60.0</td>\n",
       "    </tr>\n",
       "    <tr>\n",
       "      <th>2</th>\n",
       "      <td>3</td>\n",
       "      <td>Product C</td>\n",
       "      <td>45.5</td>\n",
       "    </tr>\n",
       "    <tr>\n",
       "      <th>3</th>\n",
       "      <td>4</td>\n",
       "      <td>Product D</td>\n",
       "      <td>72.3</td>\n",
       "    </tr>\n",
       "    <tr>\n",
       "      <th>4</th>\n",
       "      <td>5</td>\n",
       "      <td>Product E</td>\n",
       "      <td>85.0</td>\n",
       "    </tr>\n",
       "  </tbody>\n",
       "</table>\n",
       "</div>"
      ],
      "text/plain": [
       "   PRODUCTID PRODUCTNAME  PRICE\n",
       "0          1   Product A   50.0\n",
       "1          2   Product B   60.0\n",
       "2          3   Product C   45.5\n",
       "3          4   Product D   72.3\n",
       "4          5   Product E   85.0"
      ]
     },
     "execution_count": 89,
     "metadata": {},
     "output_type": "execute_result"
    }
   ],
   "source": [
    "product_data = df[['PRODUCTID','PRODUCTNAME','PRICE']]\n",
    "for i, data in product_data.iterrows():\n",
    "    cursor.execute(\"INSERT INTO products_dim VALUES (:1, :2, :3)\", tuple(data))\n",
    "    cursor.execute('commit')"
   ]
  }
 ],
 "metadata": {
  "kernelspec": {
   "display_name": "base",
   "language": "python",
   "name": "python3"
  },
  "language_info": {
   "codemirror_mode": {
    "name": "ipython",
    "version": 3
   },
   "file_extension": ".py",
   "mimetype": "text/x-python",
   "name": "python",
   "nbconvert_exporter": "python",
   "pygments_lexer": "ipython3",
   "version": "3.12.4"
  }
 },
 "nbformat": 4,
 "nbformat_minor": 2
}
